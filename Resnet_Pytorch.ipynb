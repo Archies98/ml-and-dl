{
  "nbformat": 4,
  "nbformat_minor": 0,
  "metadata": {
    "colab": {
      "name": "Resnet_Pytorch.ipynb",
      "provenance": [],
      "collapsed_sections": []
    },
    "kernelspec": {
      "name": "python3",
      "display_name": "Python 3"
    },
    "language_info": {
      "name": "python"
    }
  },
  "cells": [
    {
      "cell_type": "markdown",
      "source": [
        "Implement image classification model using Resnet in Pytorch."
      ],
      "metadata": {
        "id": "TdarU1CqJRWN"
      }
    },
    {
      "cell_type": "code",
      "metadata": {
        "id": "R_jGhKM1-fhp",
        "colab": {
          "base_uri": "https://localhost:8080/"
        },
        "outputId": "56cb3f72-275f-484b-ab4d-65e449953b18"
      },
      "source": [
        "# import required libraries\n",
        "import torch\n",
        "import torchvision\n",
        "# import the pretrained model from pytorch\n",
        "model = torchvision.models.resnext50_32x4d(pretrained=True)\n",
        "model.eval()"
      ],
      "execution_count": null,
      "outputs": [
        {
          "output_type": "execute_result",
          "data": {
            "text/plain": [
              "ResNet(\n",
              "  (conv1): Conv2d(3, 64, kernel_size=(7, 7), stride=(2, 2), padding=(3, 3), bias=False)\n",
              "  (bn1): BatchNorm2d(64, eps=1e-05, momentum=0.1, affine=True, track_running_stats=True)\n",
              "  (relu): ReLU(inplace=True)\n",
              "  (maxpool): MaxPool2d(kernel_size=3, stride=2, padding=1, dilation=1, ceil_mode=False)\n",
              "  (layer1): Sequential(\n",
              "    (0): Bottleneck(\n",
              "      (conv1): Conv2d(64, 128, kernel_size=(1, 1), stride=(1, 1), bias=False)\n",
              "      (bn1): BatchNorm2d(128, eps=1e-05, momentum=0.1, affine=True, track_running_stats=True)\n",
              "      (conv2): Conv2d(128, 128, kernel_size=(3, 3), stride=(1, 1), padding=(1, 1), groups=32, bias=False)\n",
              "      (bn2): BatchNorm2d(128, eps=1e-05, momentum=0.1, affine=True, track_running_stats=True)\n",
              "      (conv3): Conv2d(128, 256, kernel_size=(1, 1), stride=(1, 1), bias=False)\n",
              "      (bn3): BatchNorm2d(256, eps=1e-05, momentum=0.1, affine=True, track_running_stats=True)\n",
              "      (relu): ReLU(inplace=True)\n",
              "      (downsample): Sequential(\n",
              "        (0): Conv2d(64, 256, kernel_size=(1, 1), stride=(1, 1), bias=False)\n",
              "        (1): BatchNorm2d(256, eps=1e-05, momentum=0.1, affine=True, track_running_stats=True)\n",
              "      )\n",
              "    )\n",
              "    (1): Bottleneck(\n",
              "      (conv1): Conv2d(256, 128, kernel_size=(1, 1), stride=(1, 1), bias=False)\n",
              "      (bn1): BatchNorm2d(128, eps=1e-05, momentum=0.1, affine=True, track_running_stats=True)\n",
              "      (conv2): Conv2d(128, 128, kernel_size=(3, 3), stride=(1, 1), padding=(1, 1), groups=32, bias=False)\n",
              "      (bn2): BatchNorm2d(128, eps=1e-05, momentum=0.1, affine=True, track_running_stats=True)\n",
              "      (conv3): Conv2d(128, 256, kernel_size=(1, 1), stride=(1, 1), bias=False)\n",
              "      (bn3): BatchNorm2d(256, eps=1e-05, momentum=0.1, affine=True, track_running_stats=True)\n",
              "      (relu): ReLU(inplace=True)\n",
              "    )\n",
              "    (2): Bottleneck(\n",
              "      (conv1): Conv2d(256, 128, kernel_size=(1, 1), stride=(1, 1), bias=False)\n",
              "      (bn1): BatchNorm2d(128, eps=1e-05, momentum=0.1, affine=True, track_running_stats=True)\n",
              "      (conv2): Conv2d(128, 128, kernel_size=(3, 3), stride=(1, 1), padding=(1, 1), groups=32, bias=False)\n",
              "      (bn2): BatchNorm2d(128, eps=1e-05, momentum=0.1, affine=True, track_running_stats=True)\n",
              "      (conv3): Conv2d(128, 256, kernel_size=(1, 1), stride=(1, 1), bias=False)\n",
              "      (bn3): BatchNorm2d(256, eps=1e-05, momentum=0.1, affine=True, track_running_stats=True)\n",
              "      (relu): ReLU(inplace=True)\n",
              "    )\n",
              "  )\n",
              "  (layer2): Sequential(\n",
              "    (0): Bottleneck(\n",
              "      (conv1): Conv2d(256, 256, kernel_size=(1, 1), stride=(1, 1), bias=False)\n",
              "      (bn1): BatchNorm2d(256, eps=1e-05, momentum=0.1, affine=True, track_running_stats=True)\n",
              "      (conv2): Conv2d(256, 256, kernel_size=(3, 3), stride=(2, 2), padding=(1, 1), groups=32, bias=False)\n",
              "      (bn2): BatchNorm2d(256, eps=1e-05, momentum=0.1, affine=True, track_running_stats=True)\n",
              "      (conv3): Conv2d(256, 512, kernel_size=(1, 1), stride=(1, 1), bias=False)\n",
              "      (bn3): BatchNorm2d(512, eps=1e-05, momentum=0.1, affine=True, track_running_stats=True)\n",
              "      (relu): ReLU(inplace=True)\n",
              "      (downsample): Sequential(\n",
              "        (0): Conv2d(256, 512, kernel_size=(1, 1), stride=(2, 2), bias=False)\n",
              "        (1): BatchNorm2d(512, eps=1e-05, momentum=0.1, affine=True, track_running_stats=True)\n",
              "      )\n",
              "    )\n",
              "    (1): Bottleneck(\n",
              "      (conv1): Conv2d(512, 256, kernel_size=(1, 1), stride=(1, 1), bias=False)\n",
              "      (bn1): BatchNorm2d(256, eps=1e-05, momentum=0.1, affine=True, track_running_stats=True)\n",
              "      (conv2): Conv2d(256, 256, kernel_size=(3, 3), stride=(1, 1), padding=(1, 1), groups=32, bias=False)\n",
              "      (bn2): BatchNorm2d(256, eps=1e-05, momentum=0.1, affine=True, track_running_stats=True)\n",
              "      (conv3): Conv2d(256, 512, kernel_size=(1, 1), stride=(1, 1), bias=False)\n",
              "      (bn3): BatchNorm2d(512, eps=1e-05, momentum=0.1, affine=True, track_running_stats=True)\n",
              "      (relu): ReLU(inplace=True)\n",
              "    )\n",
              "    (2): Bottleneck(\n",
              "      (conv1): Conv2d(512, 256, kernel_size=(1, 1), stride=(1, 1), bias=False)\n",
              "      (bn1): BatchNorm2d(256, eps=1e-05, momentum=0.1, affine=True, track_running_stats=True)\n",
              "      (conv2): Conv2d(256, 256, kernel_size=(3, 3), stride=(1, 1), padding=(1, 1), groups=32, bias=False)\n",
              "      (bn2): BatchNorm2d(256, eps=1e-05, momentum=0.1, affine=True, track_running_stats=True)\n",
              "      (conv3): Conv2d(256, 512, kernel_size=(1, 1), stride=(1, 1), bias=False)\n",
              "      (bn3): BatchNorm2d(512, eps=1e-05, momentum=0.1, affine=True, track_running_stats=True)\n",
              "      (relu): ReLU(inplace=True)\n",
              "    )\n",
              "    (3): Bottleneck(\n",
              "      (conv1): Conv2d(512, 256, kernel_size=(1, 1), stride=(1, 1), bias=False)\n",
              "      (bn1): BatchNorm2d(256, eps=1e-05, momentum=0.1, affine=True, track_running_stats=True)\n",
              "      (conv2): Conv2d(256, 256, kernel_size=(3, 3), stride=(1, 1), padding=(1, 1), groups=32, bias=False)\n",
              "      (bn2): BatchNorm2d(256, eps=1e-05, momentum=0.1, affine=True, track_running_stats=True)\n",
              "      (conv3): Conv2d(256, 512, kernel_size=(1, 1), stride=(1, 1), bias=False)\n",
              "      (bn3): BatchNorm2d(512, eps=1e-05, momentum=0.1, affine=True, track_running_stats=True)\n",
              "      (relu): ReLU(inplace=True)\n",
              "    )\n",
              "  )\n",
              "  (layer3): Sequential(\n",
              "    (0): Bottleneck(\n",
              "      (conv1): Conv2d(512, 512, kernel_size=(1, 1), stride=(1, 1), bias=False)\n",
              "      (bn1): BatchNorm2d(512, eps=1e-05, momentum=0.1, affine=True, track_running_stats=True)\n",
              "      (conv2): Conv2d(512, 512, kernel_size=(3, 3), stride=(2, 2), padding=(1, 1), groups=32, bias=False)\n",
              "      (bn2): BatchNorm2d(512, eps=1e-05, momentum=0.1, affine=True, track_running_stats=True)\n",
              "      (conv3): Conv2d(512, 1024, kernel_size=(1, 1), stride=(1, 1), bias=False)\n",
              "      (bn3): BatchNorm2d(1024, eps=1e-05, momentum=0.1, affine=True, track_running_stats=True)\n",
              "      (relu): ReLU(inplace=True)\n",
              "      (downsample): Sequential(\n",
              "        (0): Conv2d(512, 1024, kernel_size=(1, 1), stride=(2, 2), bias=False)\n",
              "        (1): BatchNorm2d(1024, eps=1e-05, momentum=0.1, affine=True, track_running_stats=True)\n",
              "      )\n",
              "    )\n",
              "    (1): Bottleneck(\n",
              "      (conv1): Conv2d(1024, 512, kernel_size=(1, 1), stride=(1, 1), bias=False)\n",
              "      (bn1): BatchNorm2d(512, eps=1e-05, momentum=0.1, affine=True, track_running_stats=True)\n",
              "      (conv2): Conv2d(512, 512, kernel_size=(3, 3), stride=(1, 1), padding=(1, 1), groups=32, bias=False)\n",
              "      (bn2): BatchNorm2d(512, eps=1e-05, momentum=0.1, affine=True, track_running_stats=True)\n",
              "      (conv3): Conv2d(512, 1024, kernel_size=(1, 1), stride=(1, 1), bias=False)\n",
              "      (bn3): BatchNorm2d(1024, eps=1e-05, momentum=0.1, affine=True, track_running_stats=True)\n",
              "      (relu): ReLU(inplace=True)\n",
              "    )\n",
              "    (2): Bottleneck(\n",
              "      (conv1): Conv2d(1024, 512, kernel_size=(1, 1), stride=(1, 1), bias=False)\n",
              "      (bn1): BatchNorm2d(512, eps=1e-05, momentum=0.1, affine=True, track_running_stats=True)\n",
              "      (conv2): Conv2d(512, 512, kernel_size=(3, 3), stride=(1, 1), padding=(1, 1), groups=32, bias=False)\n",
              "      (bn2): BatchNorm2d(512, eps=1e-05, momentum=0.1, affine=True, track_running_stats=True)\n",
              "      (conv3): Conv2d(512, 1024, kernel_size=(1, 1), stride=(1, 1), bias=False)\n",
              "      (bn3): BatchNorm2d(1024, eps=1e-05, momentum=0.1, affine=True, track_running_stats=True)\n",
              "      (relu): ReLU(inplace=True)\n",
              "    )\n",
              "    (3): Bottleneck(\n",
              "      (conv1): Conv2d(1024, 512, kernel_size=(1, 1), stride=(1, 1), bias=False)\n",
              "      (bn1): BatchNorm2d(512, eps=1e-05, momentum=0.1, affine=True, track_running_stats=True)\n",
              "      (conv2): Conv2d(512, 512, kernel_size=(3, 3), stride=(1, 1), padding=(1, 1), groups=32, bias=False)\n",
              "      (bn2): BatchNorm2d(512, eps=1e-05, momentum=0.1, affine=True, track_running_stats=True)\n",
              "      (conv3): Conv2d(512, 1024, kernel_size=(1, 1), stride=(1, 1), bias=False)\n",
              "      (bn3): BatchNorm2d(1024, eps=1e-05, momentum=0.1, affine=True, track_running_stats=True)\n",
              "      (relu): ReLU(inplace=True)\n",
              "    )\n",
              "    (4): Bottleneck(\n",
              "      (conv1): Conv2d(1024, 512, kernel_size=(1, 1), stride=(1, 1), bias=False)\n",
              "      (bn1): BatchNorm2d(512, eps=1e-05, momentum=0.1, affine=True, track_running_stats=True)\n",
              "      (conv2): Conv2d(512, 512, kernel_size=(3, 3), stride=(1, 1), padding=(1, 1), groups=32, bias=False)\n",
              "      (bn2): BatchNorm2d(512, eps=1e-05, momentum=0.1, affine=True, track_running_stats=True)\n",
              "      (conv3): Conv2d(512, 1024, kernel_size=(1, 1), stride=(1, 1), bias=False)\n",
              "      (bn3): BatchNorm2d(1024, eps=1e-05, momentum=0.1, affine=True, track_running_stats=True)\n",
              "      (relu): ReLU(inplace=True)\n",
              "    )\n",
              "    (5): Bottleneck(\n",
              "      (conv1): Conv2d(1024, 512, kernel_size=(1, 1), stride=(1, 1), bias=False)\n",
              "      (bn1): BatchNorm2d(512, eps=1e-05, momentum=0.1, affine=True, track_running_stats=True)\n",
              "      (conv2): Conv2d(512, 512, kernel_size=(3, 3), stride=(1, 1), padding=(1, 1), groups=32, bias=False)\n",
              "      (bn2): BatchNorm2d(512, eps=1e-05, momentum=0.1, affine=True, track_running_stats=True)\n",
              "      (conv3): Conv2d(512, 1024, kernel_size=(1, 1), stride=(1, 1), bias=False)\n",
              "      (bn3): BatchNorm2d(1024, eps=1e-05, momentum=0.1, affine=True, track_running_stats=True)\n",
              "      (relu): ReLU(inplace=True)\n",
              "    )\n",
              "  )\n",
              "  (layer4): Sequential(\n",
              "    (0): Bottleneck(\n",
              "      (conv1): Conv2d(1024, 1024, kernel_size=(1, 1), stride=(1, 1), bias=False)\n",
              "      (bn1): BatchNorm2d(1024, eps=1e-05, momentum=0.1, affine=True, track_running_stats=True)\n",
              "      (conv2): Conv2d(1024, 1024, kernel_size=(3, 3), stride=(2, 2), padding=(1, 1), groups=32, bias=False)\n",
              "      (bn2): BatchNorm2d(1024, eps=1e-05, momentum=0.1, affine=True, track_running_stats=True)\n",
              "      (conv3): Conv2d(1024, 2048, kernel_size=(1, 1), stride=(1, 1), bias=False)\n",
              "      (bn3): BatchNorm2d(2048, eps=1e-05, momentum=0.1, affine=True, track_running_stats=True)\n",
              "      (relu): ReLU(inplace=True)\n",
              "      (downsample): Sequential(\n",
              "        (0): Conv2d(1024, 2048, kernel_size=(1, 1), stride=(2, 2), bias=False)\n",
              "        (1): BatchNorm2d(2048, eps=1e-05, momentum=0.1, affine=True, track_running_stats=True)\n",
              "      )\n",
              "    )\n",
              "    (1): Bottleneck(\n",
              "      (conv1): Conv2d(2048, 1024, kernel_size=(1, 1), stride=(1, 1), bias=False)\n",
              "      (bn1): BatchNorm2d(1024, eps=1e-05, momentum=0.1, affine=True, track_running_stats=True)\n",
              "      (conv2): Conv2d(1024, 1024, kernel_size=(3, 3), stride=(1, 1), padding=(1, 1), groups=32, bias=False)\n",
              "      (bn2): BatchNorm2d(1024, eps=1e-05, momentum=0.1, affine=True, track_running_stats=True)\n",
              "      (conv3): Conv2d(1024, 2048, kernel_size=(1, 1), stride=(1, 1), bias=False)\n",
              "      (bn3): BatchNorm2d(2048, eps=1e-05, momentum=0.1, affine=True, track_running_stats=True)\n",
              "      (relu): ReLU(inplace=True)\n",
              "    )\n",
              "    (2): Bottleneck(\n",
              "      (conv1): Conv2d(2048, 1024, kernel_size=(1, 1), stride=(1, 1), bias=False)\n",
              "      (bn1): BatchNorm2d(1024, eps=1e-05, momentum=0.1, affine=True, track_running_stats=True)\n",
              "      (conv2): Conv2d(1024, 1024, kernel_size=(3, 3), stride=(1, 1), padding=(1, 1), groups=32, bias=False)\n",
              "      (bn2): BatchNorm2d(1024, eps=1e-05, momentum=0.1, affine=True, track_running_stats=True)\n",
              "      (conv3): Conv2d(1024, 2048, kernel_size=(1, 1), stride=(1, 1), bias=False)\n",
              "      (bn3): BatchNorm2d(2048, eps=1e-05, momentum=0.1, affine=True, track_running_stats=True)\n",
              "      (relu): ReLU(inplace=True)\n",
              "    )\n",
              "  )\n",
              "  (avgpool): AdaptiveAvgPool2d(output_size=(1, 1))\n",
              "  (fc): Linear(in_features=2048, out_features=1000, bias=True)\n",
              ")"
            ]
          },
          "metadata": {},
          "execution_count": 65
        }
      ]
    },
    {
      "cell_type": "code",
      "metadata": {
        "id": "X9v5rq7qleUw"
      },
      "source": [
        "# download sample test image from the internet\n",
        "import urllib\n",
        "url, filename = (\"https://images.boats.com/resize/wp/2/files/2021/03/Bowrider.jpg\", \"Boat.jpg\")\n",
        "try: urllib.URLopener().retrieve(url, filename)\n",
        "except: urllib.request.urlretrieve(url, filename)"
      ],
      "execution_count": null,
      "outputs": []
    },
    {
      "cell_type": "code",
      "metadata": {
        "id": "rdiKgheIH5yD",
        "colab": {
          "base_uri": "https://localhost:8080/"
        },
        "outputId": "9e8f77b6-63d3-4059-d65b-52f301a8e3a8"
      },
      "source": [
        "from PIL import Image\n",
        "from torchvision import transforms\n",
        "input_image = Image.open(filename)\n",
        "\n",
        "preprocess = transforms.Compose([\n",
        "    transforms.Resize(256),\n",
        "    transforms.CenterCrop(224),\n",
        "    transforms.ToTensor(),\n",
        "    transforms.Normalize(mean=[0.485, 0.456, 0.406], std=[0.229, 0.224, 0.225]),\n",
        "])\n",
        "\n",
        "input_tensor = preprocess(input_image)\n",
        "input_batch = input_tensor.unsqueeze(0) # create a mini-batch as expected by the model\n",
        "# so now the shape if the image is good to be fed into the model\n",
        "\n",
        "# move the input image and model to GPU for speed if available\n",
        "if torch.cuda.is_available():\n",
        "    input_batch = input_batch.to('cuda')\n",
        "    model.to('cuda')\n",
        "\n",
        "with torch.no_grad():\n",
        "    output = model(input_batch)\n",
        "# Tensor of shape 1000, with confidence scores over Imagenet's 1000 classes\n",
        "# print(output[0])\n",
        "# # The output has unnormalized scores. To get probabilities, you can run a softmax on it.\n",
        "probabilities = torch.nn.functional.softmax(output[0], dim=0)\n",
        "print(probabilities)"
      ],
      "execution_count": null,
      "outputs": [
        {
          "output_type": "stream",
          "name": "stdout",
          "text": [
            "tensor([7.01959e-09, 1.08613e-08, 9.25720e-06, 2.20847e-06, 1.51166e-06, 2.43790e-07, 7.01983e-08, 9.87981e-09, 1.21196e-08, 2.54432e-09, 5.11534e-09, 8.62341e-09, 1.47552e-08, 1.05232e-08, 6.95999e-09, 4.89054e-09, 2.75892e-08, 5.06259e-09, 8.57004e-09, 3.73438e-09, 9.79035e-09, 6.23639e-09, 5.87251e-09, 8.30264e-09,\n",
            "        2.54258e-10, 3.00239e-09, 1.04926e-08, 2.66959e-08, 2.99233e-09, 2.57263e-08, 3.48165e-09, 2.27732e-08, 3.93091e-08, 2.25424e-07, 1.33835e-07, 3.52924e-09, 3.73714e-08, 4.39840e-09, 3.17497e-08, 2.63790e-08, 3.94039e-08, 2.34748e-08, 4.57249e-09, 9.29903e-09, 1.70750e-08, 9.34031e-09, 1.77471e-08, 4.66809e-09,\n",
            "        3.89809e-09, 1.14007e-08, 2.86369e-09, 8.02955e-10, 3.79929e-08, 2.56830e-09, 5.60664e-09, 2.26309e-08, 2.85500e-09, 3.78673e-09, 3.26409e-08, 5.47412e-08, 1.92263e-08, 2.53141e-09, 3.35889e-09, 4.24597e-09, 1.92358e-08, 1.15574e-07, 3.22670e-08, 1.43621e-09, 1.66023e-08, 3.95352e-09, 1.09779e-08, 8.32567e-09,\n",
            "        3.23326e-09, 3.19880e-08, 3.58153e-09, 6.19715e-08, 2.84862e-09, 2.38207e-09, 5.28719e-08, 1.47726e-08, 1.00438e-08, 6.78220e-08, 4.78365e-09, 7.96646e-09, 1.84445e-09, 1.41520e-09, 3.31522e-09, 1.05722e-08, 5.94538e-09, 4.77132e-09, 3.12023e-08, 2.62017e-08, 3.43315e-09, 1.63921e-09, 2.31703e-08, 4.51529e-09,\n",
            "        2.80728e-09, 2.43961e-08, 7.83474e-08, 2.57600e-08, 3.26222e-08, 6.74295e-09, 2.15502e-08, 1.90437e-08, 3.70714e-08, 1.85198e-07, 2.05430e-08, 9.54538e-08, 2.23616e-08, 1.05285e-07, 3.66680e-08, 1.26531e-07, 2.82242e-07, 9.52159e-09, 2.12433e-08, 1.10059e-07, 3.54783e-08, 1.60225e-08, 6.42252e-08, 1.20427e-07,\n",
            "        3.38112e-08, 1.37794e-07, 6.03762e-08, 5.13018e-08, 3.59179e-08, 3.42518e-08, 5.18290e-08, 1.98582e-09, 1.05433e-09, 1.48781e-08, 7.53279e-08, 5.83968e-09, 3.29473e-08, 8.02581e-09, 4.30512e-09, 3.86175e-09, 1.03160e-08, 7.67876e-09, 1.47922e-09, 1.98509e-08, 9.91602e-09, 2.88827e-09, 1.90692e-09, 1.31096e-08,\n",
            "        9.89789e-07, 2.26290e-08, 1.93593e-07, 2.63163e-05, 2.62994e-06, 3.21863e-07, 3.85716e-07, 1.82501e-07, 7.65010e-08, 5.67871e-08, 1.72821e-08, 1.38527e-08, 6.70964e-09, 2.16071e-07, 2.87042e-08, 1.08920e-08, 3.30631e-09, 1.39335e-08, 7.21679e-09, 1.07326e-08, 1.73310e-08, 1.82104e-09, 6.01942e-09, 6.18172e-09,\n",
            "        1.65040e-08, 2.89184e-08, 2.60992e-09, 2.38343e-08, 1.36931e-08, 9.09550e-09, 4.75739e-08, 3.56232e-09, 6.72530e-09, 3.25875e-09, 1.83421e-08, 6.82164e-09, 5.50975e-09, 5.10938e-09, 8.92177e-09, 8.65186e-09, 2.05092e-09, 1.24484e-07, 6.89282e-08, 3.59313e-08, 3.36492e-08, 3.00596e-08, 1.61429e-08, 1.07063e-08,\n",
            "        3.52623e-08, 4.75985e-08, 9.86328e-09, 2.03791e-08, 3.94748e-09, 1.82473e-09, 1.42193e-08, 2.66389e-08, 1.05875e-08, 3.39929e-08, 5.28836e-09, 8.86813e-08, 4.59800e-08, 1.45262e-08, 2.10867e-08, 1.46540e-08, 2.56757e-08, 1.70163e-08, 1.20173e-08, 1.34854e-08, 7.18601e-09, 5.89778e-09, 3.08429e-09, 1.05071e-07,\n",
            "        1.92669e-08, 6.05820e-09, 2.38298e-08, 3.27425e-09, 6.12195e-09, 6.60547e-09, 7.64797e-08, 1.96657e-05, 4.66295e-07, 7.14277e-09, 4.70410e-09, 2.55058e-08, 5.22549e-09, 6.15778e-09, 1.40708e-08, 4.38255e-08, 5.20756e-08, 3.85523e-09, 2.61976e-09, 2.26314e-08, 3.84798e-09, 3.39834e-08, 4.22852e-09, 1.18038e-08,\n",
            "        7.21327e-08, 6.18994e-09, 1.24348e-08, 2.93909e-09, 1.90960e-08, 2.15197e-08, 6.47817e-09, 1.28424e-08, 1.71940e-08, 9.01572e-09, 2.77954e-08, 2.26522e-07, 3.34265e-08, 3.21649e-08, 4.93565e-08, 2.36127e-09, 4.63255e-08, 4.53446e-08, 2.02296e-07, 1.09505e-06, 7.09414e-08, 1.30984e-07, 1.89317e-08, 2.66441e-08,\n",
            "        2.98713e-08, 4.99245e-08, 2.56737e-08, 1.39953e-08, 3.45177e-09, 4.93140e-09, 4.37970e-08, 1.09659e-08, 3.16739e-09, 1.93817e-08, 9.03934e-09, 6.96751e-10, 4.60457e-09, 4.51466e-09, 2.87431e-09, 3.62994e-08, 2.23100e-08, 9.80706e-09, 1.01394e-08, 1.88812e-08, 2.18967e-08, 1.25819e-08, 5.22295e-09, 4.96526e-09,\n",
            "        3.03045e-09, 4.87482e-09, 1.91452e-08, 3.17604e-09, 6.83998e-09, 2.86722e-09, 2.21941e-07, 7.28805e-08, 5.90134e-07, 2.20518e-08, 5.73469e-08, 1.13546e-08, 1.22063e-08, 1.69962e-07, 5.80677e-08, 2.31122e-08, 2.14452e-08, 2.05684e-09, 9.16229e-09, 2.46386e-09, 4.65858e-09, 8.39529e-09, 9.87351e-07, 1.46385e-08,\n",
            "        1.09036e-08, 2.55459e-08, 2.63655e-08, 3.44710e-08, 3.42220e-08, 2.13557e-08, 2.03621e-08, 6.75564e-09, 8.75470e-09, 3.19776e-09, 1.17342e-08, 3.00661e-08, 2.03688e-08, 5.00717e-08, 1.24123e-08, 1.21711e-07, 3.34669e-08, 1.94157e-07, 3.45911e-09, 1.34652e-08, 3.36834e-08, 1.50639e-08, 9.30290e-09, 2.00080e-08,\n",
            "        4.02023e-09, 6.22632e-08, 1.88269e-08, 4.56296e-09, 5.05327e-09, 2.26432e-08, 7.82727e-09, 3.06884e-09, 1.39882e-08, 4.80406e-09, 2.49573e-09, 3.48597e-09, 5.60223e-09, 9.84829e-10, 1.50150e-09, 8.27196e-10, 8.07824e-10, 4.71492e-09, 1.05801e-08, 5.17036e-09, 8.27860e-08, 5.13325e-08, 2.17527e-08, 6.47071e-09,\n",
            "        2.24968e-08, 7.60204e-08, 1.65508e-08, 3.31677e-09, 4.27068e-09, 9.81404e-10, 1.95444e-09, 3.47581e-09, 7.85275e-09, 5.76359e-09, 3.24298e-09, 9.61138e-09, 3.06619e-08, 1.82280e-08, 1.35941e-08, 5.04640e-09, 5.09936e-09, 1.90488e-08, 3.47246e-09, 1.96657e-08, 1.79020e-08, 1.78549e-09, 2.38417e-09, 3.34469e-09,\n",
            "        1.73813e-08, 4.75746e-09, 1.87240e-09, 2.60267e-08, 1.84487e-08, 3.55925e-06, 5.05973e-07, 1.44614e-06, 9.56502e-08, 1.12108e-08, 5.35434e-07, 5.60841e-06, 8.99183e-08, 3.97435e-08, 1.23989e-09, 8.10980e-09, 4.50705e-09, 6.71972e-09, 1.74091e-09, 1.95616e-05, 4.84629e-07, 3.82894e-07, 1.90436e-09, 1.09824e-06,\n",
            "        2.26853e-05, 1.08573e-08, 7.23275e-09, 6.85868e-09, 1.94720e-08, 2.05933e-09, 2.42616e-09, 2.47244e-09, 1.16622e-09, 8.14408e-08, 3.45309e-08, 5.77834e-08, 6.72721e-09, 2.18091e-07, 4.31164e-09, 4.08625e-09, 2.38215e-09, 1.23046e-08, 1.90830e-08, 3.72344e-09, 1.39651e-08, 1.96753e-08, 4.00201e-08, 4.34258e-09,\n",
            "        8.79834e-09, 2.19610e-07, 2.55195e-08, 8.32574e-08, 1.09390e-06, 2.98536e-06, 2.71873e-08, 1.28974e-08, 1.60309e-08, 2.07208e-08, 1.11816e-08, 3.26555e-08, 3.05645e-08, 2.21549e-07, 3.80956e-08, 1.41977e-07, 4.08820e-09, 8.75401e-07, 1.90929e-08, 6.94363e-09, 5.12277e-08, 9.48233e-09, 3.99914e-09, 1.03468e-08,\n",
            "        1.69176e-08, 6.99074e-09, 2.20361e-09, 1.01441e-08, 6.11188e-06, 1.86765e-09, 3.29969e-09, 8.30298e-08, 7.42332e-09, 1.32968e-09, 1.92091e-08, 1.01251e-08, 1.00060e-07, 6.65875e-09, 3.44412e-09, 1.92299e-08, 8.21520e-07, 2.12968e-09, 3.36619e-09, 5.97105e-08, 1.11407e-08, 5.76513e-08, 2.31575e-09, 2.04740e-07,\n",
            "        1.23785e-08, 8.10215e-09, 4.49329e-08, 4.64610e-08, 6.50464e-05, 8.92635e-08, 2.43824e-08, 2.32380e-08, 1.24933e-08, 1.77916e-08, 4.57528e-09, 2.20779e-08, 2.97320e-09, 1.39213e-08, 4.21357e-09, 2.31035e-09, 6.44790e-09, 7.45415e-08, 6.44526e-09, 8.34526e-09, 3.55401e-09, 3.33154e-08, 4.07396e-09, 2.69969e-08,\n",
            "        2.42511e-09, 6.66307e-08, 4.80647e-08, 2.81079e-08, 2.93035e-08, 2.31228e-09, 6.29150e-06, 2.43302e-06, 1.51857e-08, 1.07247e-07, 2.60493e-09, 2.13793e-08, 1.05196e-08, 9.50408e-08, 6.23231e-08, 1.23297e-08, 9.28992e-10, 3.41978e-08, 3.17229e-09, 8.36146e-09, 1.84152e-09, 4.49511e-07, 1.23934e-07, 2.98055e-08,\n",
            "        3.71998e-09, 5.55147e-09, 4.85394e-08, 3.78352e-08, 6.17006e-09, 9.55171e-09, 2.02525e-08, 2.95578e-08, 9.83326e-06, 4.19008e-08, 8.69908e-08, 1.67672e-08, 1.89406e-05, 1.33792e-08, 9.34619e-09, 1.04611e-09, 1.24057e-07, 3.63963e-08, 9.88170e-09, 4.44076e-08, 1.40213e-08, 8.58367e-09, 5.96973e-09, 3.26057e-09,\n",
            "        1.98091e-09, 2.20290e-08, 1.08923e-03, 6.22892e-08, 5.14607e-09, 8.63953e-08, 2.09213e-08, 4.20786e-09, 2.78402e-08, 7.31357e-09, 3.66662e-08, 5.26995e-08, 7.09797e-09, 7.85822e-09, 4.73071e-09, 6.99897e-09, 3.24061e-09, 2.06260e-08, 1.78585e-08, 9.47696e-09, 3.46177e-09, 1.83589e-08, 8.50051e-09, 9.25693e-09,\n",
            "        1.86184e-06, 4.89845e-09, 5.44821e-09, 5.57168e-10, 1.71864e-09, 2.78737e-08, 4.77707e-09, 7.67389e-09, 3.38204e-08, 2.61431e-08, 4.23579e-09, 7.10983e-09, 2.83821e-09, 1.54357e-09, 2.10765e-08, 4.00607e-08, 3.84243e-09, 5.13754e-09, 9.56838e-09, 1.91037e-08, 3.17820e-09, 1.12598e-09, 5.24397e-09, 4.06418e-08,\n",
            "        6.89876e-06, 4.31463e-09, 2.44711e-08, 2.03056e-09, 1.60717e-08, 2.18118e-08, 3.50323e-07, 6.92861e-08, 8.81008e-09, 2.03313e-08, 2.71806e-09, 7.97502e-09, 1.08451e-09, 2.95688e-07, 4.15371e-09, 2.43105e-09, 5.61471e-07, 2.95121e-08, 9.73893e-09, 9.25383e-09, 2.06952e-08, 7.04226e-09, 4.00890e-09, 7.15580e-08,\n",
            "        4.11426e-09, 4.70636e-03, 2.95209e-08, 3.84400e-08, 2.06183e-05, 1.38298e-09, 2.23101e-09, 3.04950e-08, 2.24292e-08, 3.83176e-09, 1.41234e-08, 1.23061e-07, 1.03258e-08, 2.16423e-09, 2.49550e-07, 1.36636e-07, 7.28853e-09, 4.76313e-09, 3.22799e-09, 6.06971e-09, 2.64819e-09, 7.23423e-09, 2.41777e-08, 4.02046e-08,\n",
            "        8.74547e-09, 3.50956e-09, 7.41790e-09, 5.97207e-09, 5.38429e-09, 2.87070e-09, 1.57844e-07, 1.19243e-08, 5.43691e-08, 1.82309e-07, 1.49928e-07, 1.57642e-08, 1.65660e-09, 1.02961e-08, 4.57374e-08, 6.67569e-09, 4.09858e-08, 2.44307e-08, 9.08598e-09, 7.00437e-09, 4.73764e-08, 1.82304e-09, 8.10550e-09, 5.59985e-09,\n",
            "        1.98932e-08, 1.46185e-08, 5.86778e-08, 6.95459e-09, 2.12318e-09, 2.55629e-08, 7.17057e-08, 3.37899e-09, 3.57816e-08, 1.92823e-08, 9.76214e-09, 8.03847e-09, 2.84560e-07, 2.40866e-08, 1.38959e-08, 1.89357e-09, 2.10760e-08, 6.67056e-09, 3.49066e-09, 3.39837e-07, 5.38927e-09, 3.56518e-06, 9.35945e-07, 3.55691e-09,\n",
            "        2.10033e-09, 3.51312e-09, 1.70185e-08, 4.32614e-09, 1.80014e-08, 7.67722e-07, 1.00321e-08, 4.19715e-09, 4.55246e-08, 9.37571e-08, 3.89995e-09, 1.33888e-08, 1.09015e-08, 1.84129e-08, 1.47216e-09, 1.47449e-08, 6.21720e-08, 8.75970e-08, 4.28026e-09, 5.68505e-09, 8.97351e-09, 4.74765e-08, 5.99618e-07, 4.87850e-09,\n",
            "        3.93095e-09, 1.81795e-09, 4.41828e-09, 1.04570e-09, 8.46244e-07, 4.08874e-09, 4.93065e-09, 1.66370e-08, 2.08809e-08, 3.10997e-08, 2.73271e-09, 1.09767e-08, 5.02079e-09, 6.34840e-07, 5.24872e-08, 1.73557e-08, 8.51474e-09, 7.24058e-09, 3.92393e-09, 1.99836e-09, 1.68054e-08, 1.11445e-08, 5.52615e-08, 3.55150e-09,\n",
            "        1.94744e-07, 2.24388e-09, 2.29882e-08, 4.92571e-09, 7.76897e-09, 5.09452e-08, 8.40989e-09, 2.33173e-07, 3.00143e-08, 3.88304e-09, 1.89126e-08, 7.34479e-09, 1.49593e-09, 1.25867e-07, 4.60090e-06, 5.63415e-09, 2.93555e-09, 1.24663e-08, 1.28887e-07, 1.98092e-09, 2.41541e-09, 3.53513e-09, 8.13201e-09, 5.07247e-09,\n",
            "        2.93286e-08, 4.67261e-08, 2.78273e-08, 9.73637e-09, 1.21245e-08, 1.09164e-08, 4.53051e-09, 8.43344e-08, 6.32975e-09, 2.60317e-08, 1.43442e-08, 9.98166e-09, 4.35270e-05, 2.91124e-08, 7.85130e-08, 5.39679e-08, 8.11161e-09, 1.93411e-08, 4.11756e-08, 2.52206e-08, 1.57097e-09, 2.79394e-09, 3.16731e-09, 2.15672e-08,\n",
            "        4.16408e-09, 1.17595e-08, 9.92656e-09, 3.29967e-07, 1.78216e-07, 3.01161e-09, 2.75203e-09, 5.76103e-09, 6.63096e-09, 2.81040e-06, 8.17650e-07, 1.01273e-07, 8.69526e-08, 4.08986e-08, 6.22675e-09, 2.58270e-08, 1.15184e-07, 1.85539e-08, 1.12635e-08, 1.01870e-08, 1.78988e-07, 2.42010e-09, 9.93530e-01, 3.75567e-09,\n",
            "        4.62414e-08, 2.76137e-08, 2.55593e-08, 3.86435e-08, 1.12361e-08, 8.95239e-07, 9.01885e-09, 3.39489e-08, 2.78415e-08, 2.74618e-10, 5.85429e-08, 4.24250e-09, 1.18204e-08, 2.98973e-08, 1.07169e-07, 5.47247e-09, 9.85263e-10, 4.55162e-05, 9.10628e-09, 1.16585e-08, 3.82125e-08, 4.76866e-08, 9.92216e-08, 5.89203e-09,\n",
            "        2.95512e-09, 4.87767e-08, 1.14178e-07, 4.38328e-09, 4.46142e-08, 1.64433e-08, 4.36444e-08, 1.17594e-08, 4.16976e-08, 2.89256e-08, 1.87414e-08, 3.08166e-07, 1.23966e-07, 4.45380e-09, 3.82104e-09, 1.80939e-08, 1.37628e-08, 4.47468e-10, 2.37465e-08, 8.70141e-09, 9.61903e-09, 3.75504e-08, 5.69104e-09, 2.16680e-09,\n",
            "        2.09255e-08, 2.00745e-08, 7.90436e-08, 2.21509e-08, 7.04803e-09, 1.14427e-08, 9.86210e-09, 1.74599e-04, 1.56311e-09, 5.40053e-09, 1.27299e-08, 3.37140e-08, 5.77658e-08, 3.68763e-09, 2.44778e-09, 7.21477e-08, 4.35607e-08, 6.52392e-09, 7.70433e-09, 2.84076e-09, 4.20739e-08, 2.78203e-09, 9.24765e-10, 1.48252e-08,\n",
            "        9.33627e-09, 1.72181e-08, 2.46972e-08, 3.02102e-09, 2.66453e-09, 7.26746e-09, 1.98959e-08, 1.44282e-07, 1.59221e-08, 4.36064e-09, 2.79884e-08, 2.09404e-08, 2.01106e-09, 4.43871e-09, 1.19166e-08, 3.23221e-09, 1.96794e-08, 2.76583e-09, 1.11831e-08, 1.37199e-09, 1.94559e-07, 3.69658e-08, 4.82955e-09, 3.99402e-08,\n",
            "        4.46253e-09, 2.41330e-06, 3.60561e-05, 1.99178e-08, 1.37851e-07, 3.50943e-08, 1.68628e-08, 1.11733e-07, 2.15985e-08, 8.29770e-09, 2.55692e-09, 3.27018e-08, 8.52992e-09, 7.86663e-09, 1.14023e-08, 4.68254e-08, 2.28886e-08, 1.38115e-08, 5.54332e-09, 1.70398e-09, 8.92718e-09, 1.47452e-09, 2.14395e-08, 5.66911e-09,\n",
            "        7.28349e-09, 1.27989e-08, 8.65965e-09, 4.55288e-09, 1.27166e-08, 6.42501e-09, 1.69755e-09, 3.73515e-09, 5.63817e-09, 1.00729e-08, 5.06033e-09, 1.51792e-08, 6.43422e-09, 6.83257e-08, 1.24584e-07, 8.83798e-09, 1.48376e-08, 2.74147e-08, 3.17451e-08, 2.75646e-09, 4.82658e-09, 4.20146e-08, 1.96640e-09, 9.13974e-09,\n",
            "        1.23647e-08, 1.14835e-08, 1.01250e-08, 1.32150e-08, 5.88124e-09, 1.85578e-08, 1.32128e-08, 4.19410e-09, 2.35713e-08, 4.77216e-09, 1.89117e-07, 1.37096e-08, 2.71800e-06, 1.39563e-06, 2.82720e-08, 1.37123e-05, 2.68720e-06, 1.61350e-05, 2.36961e-05, 2.54648e-08, 1.43917e-07, 4.85635e-08, 1.20620e-08, 2.25524e-06,\n",
            "        7.73005e-09, 3.55518e-09, 4.72774e-09, 5.99670e-09, 1.11207e-08, 1.25269e-08, 6.66598e-09, 4.86652e-08, 1.70889e-08, 7.06457e-09, 6.36927e-08, 1.38529e-08, 5.39733e-08, 9.03651e-09, 8.63636e-09, 3.06354e-09])\n"
          ]
        }
      ]
    },
    {
      "cell_type": "code",
      "metadata": {
        "id": "eC4CxYczIHzj",
        "colab": {
          "base_uri": "https://localhost:8080/"
        },
        "outputId": "b09fced6-7941-4a2c-c103-1e4415d8536c"
      },
      "source": [
        "!wget https://raw.githubusercontent.com/pytorch/hub/master/imagenet_classes.txt"
      ],
      "execution_count": null,
      "outputs": [
        {
          "output_type": "stream",
          "name": "stdout",
          "text": [
            "--2021-12-15 03:50:14--  https://raw.githubusercontent.com/pytorch/hub/master/imagenet_classes.txt\n",
            "Resolving raw.githubusercontent.com (raw.githubusercontent.com)... 185.199.108.133, 185.199.109.133, 185.199.110.133, ...\n",
            "Connecting to raw.githubusercontent.com (raw.githubusercontent.com)|185.199.108.133|:443... connected.\n",
            "HTTP request sent, awaiting response... 200 OK\n",
            "Length: 10472 (10K) [text/plain]\n",
            "Saving to: ‘imagenet_classes.txt.1’\n",
            "\n",
            "imagenet_classes.tx 100%[===================>]  10.23K  --.-KB/s    in 0s      \n",
            "\n",
            "2021-12-15 03:50:15 (73.0 MB/s) - ‘imagenet_classes.txt.1’ saved [10472/10472]\n",
            "\n"
          ]
        }
      ]
    },
    {
      "cell_type": "code",
      "metadata": {
        "colab": {
          "base_uri": "https://localhost:8080/"
        },
        "id": "ayeHCiM5IEU4",
        "outputId": "d2926dfe-cd76-4b5e-cd22-d9a516e265fb"
      },
      "source": [
        "# Read the categories\n",
        "with open(\"imagenet_classes.txt\", \"r\") as f:\n",
        "    categories = [s.strip() for s in f.readlines()]\n",
        "# Show top categories per image\n",
        "top5_prob, top5_catid = torch.topk(probabilities, 5)\n",
        "for i in range(top5_prob.size(0)):\n",
        "    print(categories[top5_catid[i]], round(top5_prob[i].item() * 100, 2))"
      ],
      "execution_count": null,
      "outputs": [
        {
          "output_type": "stream",
          "name": "stdout",
          "text": [
            "speedboat 99.35\n",
            "lifeboat 0.47\n",
            "fireboat 0.11\n",
            "trimaran 0.02\n",
            "catamaran 0.01\n"
          ]
        }
      ]
    }
  ]
}