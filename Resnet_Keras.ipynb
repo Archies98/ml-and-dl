{
  "nbformat": 4,
  "nbformat_minor": 0,
  "metadata": {
    "colab": {
      "name": "Resnet_Keras.ipynb",
      "provenance": [],
      "collapsed_sections": []
    },
    "kernelspec": {
      "name": "python3",
      "display_name": "Python 3"
    },
    "language_info": {
      "name": "python"
    }
  },
  "cells": [
    {
      "cell_type": "markdown",
      "source": [
        "Implement image classification model using Resnet in Keras."
      ],
      "metadata": {
        "id": "TdarU1CqJRWN"
      }
    },
    {
      "cell_type": "code",
      "source": [
        "# import example image from the internet\n",
        "import urllib\n",
        "url, filename = (\"https://images.boats.com/resize/wp/2/files/2021/03/Bowrider.jpg\", \"Boat.jpg\")\n",
        "try: urllib.URLopener().retrieve(url, filename)\n",
        "except: urllib.request.urlretrieve(url, filename)"
      ],
      "metadata": {
        "id": "SSykDSCeIt_1"
      },
      "execution_count": null,
      "outputs": []
    },
    {
      "cell_type": "code",
      "source": [
        "# import required libraries\n",
        "import keras\n",
        "from tensorflow.keras.applications.resnet50 import ResNet50\n",
        "from keras.preprocessing import image\n",
        "from tensorflow.keras.applications.resnet50 import preprocess_input, decode_predictions\n",
        "import numpy as np\n",
        "\n",
        "# import Restnet model using the weights trained on imagenet dataset from keras\n",
        "model = ResNet50(weights='imagenet')\n",
        "\n",
        "img_path = 'Boat.jpg'\n",
        "img = image.load_img(img_path, target_size=(224, 224))\n",
        "x = image.img_to_array(img)\n",
        "x = np.expand_dims(x, axis=0)\n",
        "x = preprocess_input(x)\n",
        "\n",
        "preds = model.predict(x)\n",
        "# decode the results into a list of tuples (class, description, probability)\n",
        "# (one such list for each sample in the batch)\n",
        "print('Predicted:', decode_predictions(preds, top=5)[0])"
      ],
      "metadata": {
        "colab": {
          "base_uri": "https://localhost:8080/"
        },
        "id": "qd07VI-VCcpd",
        "outputId": "fbc52f9a-6b8c-4236-f103-ff31f46a1f36"
      },
      "execution_count": null,
      "outputs": [
        {
          "output_type": "stream",
          "name": "stdout",
          "text": [
            "WARNING:tensorflow:5 out of the last 5 calls to <function Model.make_predict_function.<locals>.predict_function at 0x7f6e003300e0> triggered tf.function retracing. Tracing is expensive and the excessive number of tracings could be due to (1) creating @tf.function repeatedly in a loop, (2) passing tensors with different shapes, (3) passing Python objects instead of tensors. For (1), please define your @tf.function outside of the loop. For (2), @tf.function has experimental_relax_shapes=True option that relaxes argument shapes that can avoid unnecessary retracing. For (3), please refer to https://www.tensorflow.org/guide/function#controlling_retracing and https://www.tensorflow.org/api_docs/python/tf/function for  more details.\n",
            "Predicted: [('n04273569', 'speedboat', 0.96470594), ('n03344393', 'fireboat', 0.019316277), ('n03662601', 'lifeboat', 0.014831758), ('n02981792', 'catamaran', 0.0005800923), ('n02704792', 'amphibian', 0.00021805035)]\n"
          ]
        }
      ]
    },
    {
      "cell_type": "code",
      "source": [
        "# convert predictions to percentages and print them\n",
        "decoded_preds = decode_predictions(preds, top=5)[0]\n",
        "for prediction in decoded_preds:\n",
        "  print(f\"{prediction[1]}: {round(prediction[2] * 100, 2)}%\")"
      ],
      "metadata": {
        "colab": {
          "base_uri": "https://localhost:8080/"
        },
        "id": "F7l_GoOEJ1Y3",
        "outputId": "7a94b6a4-d2d4-4ae5-deea-af373ed0d998"
      },
      "execution_count": null,
      "outputs": [
        {
          "output_type": "stream",
          "name": "stdout",
          "text": [
            "speedboat: 96.47%\n",
            "fireboat: 1.93%\n",
            "lifeboat: 1.48%\n",
            "catamaran: 0.06%\n",
            "amphibian: 0.02%\n"
          ]
        }
      ]
    }
  ]
}